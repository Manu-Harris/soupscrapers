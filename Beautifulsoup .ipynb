{
 "cells": [
  {
   "cell_type": "code",
   "execution_count": 1,
   "metadata": {},
   "outputs": [],
   "source": [
    "html_doc = \"\"\"<html><head><title>The Dormouse's story</title></head>\n",
    "<body>\n",
    "<p class=\"title\"><b>The Dormouse's story</b></p>\n",
    "\n",
    "<p class=\"story\">Once upon a time there were three little sisters; and their names were\n",
    "<a href=\"http://example.com/elsie\" class=\"sister\" id=\"link1\">Elsie</a>,\n",
    "<a href=\"http://example.com/lacie\" class=\"sister\" id=\"link2\">Lacie</a> and\n",
    "<a href=\"http://example.com/tillie\" class=\"sister\" id=\"link3\">Tillie</a>;\n",
    "and they lived at the bottom of a well.</p>\n",
    "\n",
    "<p class=\"story\">...</p>\n",
    "\"\"\"\n",
    "# me following along in the beautiful soup 4 documentation in jupiter notebook\n",
    "from bs4 import BeautifulSoup\n"
   ]
  },
  {
   "cell_type": "code",
   "execution_count": 2,
   "metadata": {},
   "outputs": [
    {
     "name": "stdout",
     "output_type": "stream",
     "text": [
      "<html>\n",
      " <head>\n",
      "  <title>\n",
      "   The Dormouse's story\n",
      "  </title>\n",
      " </head>\n",
      " <body>\n",
      "  <p class=\"title\">\n",
      "   <b>\n",
      "    The Dormouse's story\n",
      "   </b>\n",
      "  </p>\n",
      "  <p class=\"story\">\n",
      "   Once upon a time there were three little sisters; and their names were\n",
      "   <a class=\"sister\" href=\"http://example.com/elsie\" id=\"link1\">\n",
      "    Elsie\n",
      "   </a>\n",
      "   ,\n",
      "   <a class=\"sister\" href=\"http://example.com/lacie\" id=\"link2\">\n",
      "    Lacie\n",
      "   </a>\n",
      "   and\n",
      "   <a class=\"sister\" href=\"http://example.com/tillie\" id=\"link3\">\n",
      "    Tillie\n",
      "   </a>\n",
      "   ;\n",
      "and they lived at the bottom of a well.\n",
      "  </p>\n",
      "  <p class=\"story\">\n",
      "   ...\n",
      "  </p>\n",
      " </body>\n",
      "</html>\n"
     ]
    }
   ],
   "source": [
    "soup = BeautifulSoup(html_doc, 'html.parser')\n",
    "print(soup.prettify())"
   ]
  },
  {
   "cell_type": "code",
   "execution_count": 3,
   "metadata": {},
   "outputs": [
    {
     "data": {
      "text/plain": [
       "<title>The Dormouse's story</title>"
      ]
     },
     "execution_count": 3,
     "metadata": {},
     "output_type": "execute_result"
    }
   ],
   "source": [
    "soup.title\n"
   ]
  },
  {
   "cell_type": "code",
   "execution_count": 4,
   "metadata": {},
   "outputs": [
    {
     "data": {
      "text/plain": [
       "\"The Dormouse's story\""
      ]
     },
     "execution_count": 4,
     "metadata": {},
     "output_type": "execute_result"
    }
   ],
   "source": [
    "soup.title.name\n",
    "soup.title.string"
   ]
  },
  {
   "cell_type": "code",
   "execution_count": 5,
   "metadata": {},
   "outputs": [
    {
     "data": {
      "text/plain": [
       "'head'"
      ]
     },
     "execution_count": 5,
     "metadata": {},
     "output_type": "execute_result"
    }
   ],
   "source": [
    "soup.title.parent.name\n"
   ]
  },
  {
   "cell_type": "code",
   "execution_count": 6,
   "metadata": {},
   "outputs": [
    {
     "data": {
      "text/plain": [
       "<p class=\"title\"><b>The Dormouse's story</b></p>"
      ]
     },
     "execution_count": 6,
     "metadata": {},
     "output_type": "execute_result"
    }
   ],
   "source": [
    "soup.p\n"
   ]
  },
  {
   "cell_type": "code",
   "execution_count": 7,
   "metadata": {},
   "outputs": [
    {
     "data": {
      "text/plain": [
       "<a class=\"sister\" href=\"http://example.com/elsie\" id=\"link1\">Elsie</a>"
      ]
     },
     "execution_count": 7,
     "metadata": {},
     "output_type": "execute_result"
    }
   ],
   "source": [
    "soup.a\n"
   ]
  },
  {
   "cell_type": "code",
   "execution_count": null,
   "metadata": {},
   "outputs": [],
   "source": []
  },
  {
   "cell_type": "code",
   "execution_count": 8,
   "metadata": {},
   "outputs": [
    {
     "data": {
      "text/plain": [
       "<a class=\"sister\" href=\"http://example.com/tillie\" id=\"link3\">Tillie</a>"
      ]
     },
     "execution_count": 8,
     "metadata": {},
     "output_type": "execute_result"
    }
   ],
   "source": [
    "soup.find(id=\"link3\")"
   ]
  },
  {
   "cell_type": "code",
   "execution_count": 9,
   "metadata": {},
   "outputs": [
    {
     "name": "stdout",
     "output_type": "stream",
     "text": [
      "http://example.com/elsie\n",
      "http://example.com/lacie\n",
      "http://example.com/tillie\n"
     ]
    }
   ],
   "source": [
    "for link in soup.find_all('a'):\n",
    "    print(link.get('href'))"
   ]
  },
  {
   "cell_type": "code",
   "execution_count": 10,
   "metadata": {
    "scrolled": true
   },
   "outputs": [
    {
     "name": "stdout",
     "output_type": "stream",
     "text": [
      "The Dormouse's story\n",
      "\n",
      "The Dormouse's story\n",
      "Once upon a time there were three little sisters; and their names were\n",
      "Elsie,\n",
      "Lacie and\n",
      "Tillie;\n",
      "and they lived at the bottom of a well.\n",
      "...\n",
      "\n"
     ]
    }
   ],
   "source": [
    "print(soup.get_text())"
   ]
  },
  {
   "cell_type": "code",
   "execution_count": 27,
   "metadata": {},
   "outputs": [
    {
     "name": "stdout",
     "output_type": "stream",
     "text": [
      "https://coreyms.com/\n",
      "https://coreyms.com/\n",
      "https://www.youtube.com/user/schafer5\n",
      "https://github.com/CoreyMSchafer\n",
      "https://plus.google.com/+CoreySchafer44/posts\n",
      "https://twitter.com/CoreyMSchafer\n",
      "https://www.instagram.com/coreymschafer/\n",
      "http://coreyms.com/feed/\n",
      "https://coreyms.com/contact\n",
      "http://coreyms.com/portfolio\n",
      "https://coreyms.com/category/development\n",
      "https://coreyms.com/category/development/python\n",
      "https://coreyms.com/category/development/git\n",
      "https://coreyms.com/category/development/terminal\n",
      "https://coreyms.com/category/development/javascript\n",
      "https://coreyms.com/category/development/wordpress\n",
      "https://coreyms.com/category/web-design\n",
      "https://coreyms.com/category/web-design/css\n",
      "https://coreyms.com/category/diy\n",
      "https://coreyms.com/category/diy/woodworking\n",
      "https://coreyms.com/category/diy/home-improvement\n",
      "https://coreyms.com/contributors\n",
      "https://coreyms.com/support\n",
      "https://coreyms.com/giveaway\n",
      "https://coreyms.com/development/terminal/homebrew-tutorial-simplify-software-installation-on-mac-using-this-package-manager\n",
      "https://coreyms.com/author/coreymschafer\n",
      "https://coreyms.com/development/terminal/homebrew-tutorial-simplify-software-installation-on-mac-using-this-package-manager#respond\n",
      "https://coreyms.com/category/development\n",
      "https://coreyms.com/category/development/terminal\n",
      "https://coreyms.com/tag/brew\n",
      "https://coreyms.com/tag/homebrew\n",
      "https://coreyms.com/tag/mac\n",
      "https://coreyms.com/tag/macos\n",
      "https://coreyms.com/tag/package-manager\n",
      "https://coreyms.com/development/terminal/linuxmac-terminal-tutorial-the-grep-command-search-files-and-directories-for-patterns-of-text\n",
      "https://coreyms.com/author/coreymschafer\n",
      "https://coreyms.com/development/terminal/linuxmac-terminal-tutorial-the-grep-command-search-files-and-directories-for-patterns-of-text#respond\n",
      "https://coreyms.com/category/development\n",
      "https://coreyms.com/category/development/terminal\n",
      "https://coreyms.com/tag/command-line\n",
      "https://coreyms.com/tag/computer-science\n",
      "https://coreyms.com/tag/linux\n",
      "https://coreyms.com/tag/os-x\n",
      "https://coreyms.com/tag/programming\n",
      "https://coreyms.com/tag/terminal\n",
      "https://coreyms.com/tag/video\n",
      "https://coreyms.com/development/terminal/how-to-run-linuxbash-on-windows-10-using-the-built-in-windows-subsystem-for-linux\n",
      "https://coreyms.com/author/coreymschafer\n",
      "https://coreyms.com/development/terminal/how-to-run-linuxbash-on-windows-10-using-the-built-in-windows-subsystem-for-linux#respond\n",
      "https://coreyms.com/category/development\n",
      "https://coreyms.com/category/development/terminal\n",
      "https://coreyms.com/tag/bash\n",
      "https://coreyms.com/tag/command-line\n",
      "https://coreyms.com/tag/computer-science\n",
      "https://coreyms.com/tag/linux\n",
      "https://coreyms.com/tag/programming\n",
      "https://coreyms.com/tag/windows\n",
      "https://coreyms.com/development/terminal/linuxmac-terminal-tutorial-use-rsync-command-sync-files-locally-remotely\n",
      "https://coreyms.com/author/coreymschafer\n",
      "https://coreyms.com/development/terminal/linuxmac-terminal-tutorial-use-rsync-command-sync-files-locally-remotely#comments\n",
      "https://coreyms.com/category/development\n",
      "https://coreyms.com/category/development/terminal\n",
      "https://coreyms.com/tag/command-line\n",
      "https://coreyms.com/tag/computer-science\n",
      "https://coreyms.com/tag/linux\n",
      "https://coreyms.com/tag/mac\n",
      "https://coreyms.com/tag/os-x\n",
      "https://coreyms.com/tag/terminal\n",
      "https://coreyms.com/tag/video\n",
      "https://coreyms.com/development/terminal/linuxmac-tutorial-cron-jobs-schedule-commands-crontab\n",
      "https://coreyms.com/author/coreymschafer\n",
      "https://coreyms.com/development/terminal/linuxmac-tutorial-cron-jobs-schedule-commands-crontab#respond\n",
      "https://coreyms.com/category/development\n",
      "https://coreyms.com/category/development/terminal\n",
      "https://coreyms.com/tag/command-line\n",
      "https://coreyms.com/tag/cron\n",
      "https://coreyms.com/tag/cron-job\n",
      "https://coreyms.com/tag/crontab\n",
      "https://coreyms.com/tag/linux\n",
      "https://coreyms.com/tag/mac\n",
      "https://coreyms.com/tag/os-x\n",
      "https://coreyms.com/tag/programming\n",
      "https://coreyms.com/tag/terminal\n",
      "https://coreyms.com/tag/video\n",
      "https://coreyms.com/development/terminal/linuxmac-tutorial-ssh-key-based-authentication-ssh-without-password\n",
      "https://coreyms.com/author/coreymschafer\n",
      "https://coreyms.com/development/terminal/linuxmac-tutorial-ssh-key-based-authentication-ssh-without-password#respond\n",
      "https://coreyms.com/category/development\n",
      "https://coreyms.com/category/development/terminal\n",
      "https://coreyms.com/tag/command-line\n",
      "https://coreyms.com/tag/computer-science\n",
      "https://coreyms.com/tag/linux\n",
      "https://coreyms.com/tag/mac\n",
      "https://coreyms.com/tag/os-x\n",
      "https://coreyms.com/tag/programming\n",
      "https://coreyms.com/tag/terminal\n",
      "https://coreyms.com/tag/video\n",
      "https://coreyms.com/development/terminal/linuxmac-terminal-use-find-command\n",
      "https://coreyms.com/author/coreymschafer\n",
      "https://coreyms.com/development/terminal/linuxmac-terminal-use-find-command#respond\n",
      "https://coreyms.com/category/development\n",
      "https://coreyms.com/category/development/terminal\n",
      "https://coreyms.com/tag/command-line\n",
      "https://coreyms.com/tag/computer-science\n",
      "https://coreyms.com/tag/find\n",
      "https://coreyms.com/tag/linux\n",
      "https://coreyms.com/tag/programming\n",
      "https://coreyms.com/tag/video\n",
      "https://coreyms.com/development/linuxmac-terminal-use-curl-command\n",
      "https://coreyms.com/author/coreymschafer\n",
      "https://coreyms.com/development/linuxmac-terminal-use-curl-command#respond\n",
      "https://coreyms.com/category/development\n",
      "https://coreyms.com/category/development/terminal\n",
      "https://coreyms.com/tag/command-line\n",
      "https://coreyms.com/tag/computer-science\n",
      "https://coreyms.com/tag/programming\n",
      "https://coreyms.com/tag/terminal\n",
      "https://coreyms.com/tag/video\n",
      "https://coreyms.com/development/terminal/install-ubuntu-16-04-lts-virtualbox-guest-additions\n",
      "https://coreyms.com/author/coreymschafer\n",
      "https://coreyms.com/development/terminal/install-ubuntu-16-04-lts-virtualbox-guest-additions#respond\n",
      "https://coreyms.com/category/development\n",
      "https://coreyms.com/category/development/terminal\n",
      "https://coreyms.com/tag/command-line\n",
      "https://coreyms.com/tag/computer-science\n",
      "https://coreyms.com/tag/linux\n",
      "https://coreyms.com/tag/programming\n",
      "https://coreyms.com/tag/terminal\n",
      "https://coreyms.com/tag/video\n",
      "https://coreyms.com/development/customizing-your-terminal-how-to-use-and-modify-dotfiles\n",
      "https://coreyms.com/author/coreymschafer\n",
      "https://coreyms.com/development/customizing-your-terminal-how-to-use-and-modify-dotfiles#respond\n",
      "https://coreyms.com/category/development\n",
      "https://coreyms.com/category/development/terminal\n",
      "https://coreyms.com/tag/command-line\n",
      "https://coreyms.com/tag/computer-science\n",
      "https://coreyms.com/tag/mac\n",
      "https://coreyms.com/tag/os-x\n",
      "https://coreyms.com/tag/programming\n",
      "https://coreyms.com/tag/video\n",
      "https://coreyms.com/category/development/terminal\n",
      "https://coreyms.com/category/development/terminal/page/2\n",
      "https://coreyms.com/category/development/terminal/page/2\n",
      "https://www.patreon.com/coreyms\n",
      "https://www.amazon.com/gp/product/1449355730/ref=as_li_tl?ie=UTF8&camp=1789&creative=9325&creativeASIN=1449355730&linkCode=as2&tag=coreyms-20&linkId=2f9ceaf471d7d35f2c2657051780fc6f\n",
      "https://www.amazon.com/gp/product/1491946008/ref=as_li_tl?ie=UTF8&camp=1789&creative=9325&creativeASIN=1491946008&linkCode=as2&tag=coreyms-20&linkId=39335cdc340fb7ce5bd51d59c57e7e54\n",
      "https://www.amazon.com/gp/product/1593276036/ref=as_li_tl?ie=UTF8&camp=1789&creative=9325&creativeASIN=1593276036&linkCode=as2&tag=coreyms-20&linkId=75ff844a147bc8cb5fb325608b286158\n",
      "https://www.amazon.com/gp/product/0984782850/ref=as_li_tl?ie=UTF8&camp=1789&creative=9325&creativeASIN=0984782850&linkCode=as2&tag=coreyms-20&linkId=e2f7c21906426f17958a1d04718e7d02\n",
      "https://www.amazon.com/gp/product/020161622X/ref=as_li_tl?ie=UTF8&camp=1789&creative=9325&creativeASIN=020161622X&linkCode=as2&tag=coreyms-20&linkId=a2699f6b6cb5814da54f71140c52f2ca\n",
      "https://www.amazon.com/gp/product/0201835959/ref=as_li_tl?ie=UTF8&camp=1789&creative=9325&creativeASIN=0201835959&linkCode=as2&tag=coreyms-20&linkId=c3de80ab4a4761f7634751cf323af13f\n",
      "http://talkpython.fm/\n",
      "http://shoptalkshow.com/\n",
      "http://www.se-radio.net/\n",
      "http://hanselminutes.com/\n",
      "https://blog.codepen.io/radio/\n",
      "http://www.dancarlin.com/hardcore-history-series/\n",
      "http://www.billburr.com/podcast\n",
      "http://www.samharris.org/podcast\n",
      "http://www.startalkradio.net/shows-archive/\n",
      "http://carasantamaria.com/podcast/\n",
      "http://coreyms.com\n"
     ]
    }
   ],
   "source": [
    "from bs4 import BeautifulSoup\n",
    "import requests\n",
    "\n",
    "r = requests.get('https://coreyms.com/category/development/terminal')\n",
    "r = r.text\n",
    "\n",
    "soup = BeautifulSoup(r, 'html.parser')\n",
    "#print(soup.prettify())\n",
    "\n",
    "soup.title\n",
    "\n",
    "for i in soup.find_all('a'):\n",
    "    print(i.get('href'))    "
   ]
  },
  {
   "cell_type": "code",
   "execution_count": 12,
   "metadata": {},
   "outputs": [
    {
     "name": "stdout",
     "output_type": "stream",
     "text": [
      "[<span class=\"pageassetinfo_value__yRWjv\">500,000,000,000</span>]\n"
     ]
    }
   ],
   "source": [
    "\n",
    "import requests\n",
    "from bs4 import BeautifulSoup\n",
    "URL = \"https://wavesexplorer.com/assets/5F9sNbkUExo8EoQbQP5fWom31qW4igqbZMUEqCNx2Q1K?fbclid=IwAR2jNKTRWuz6amgs3e8OTZLP0c_PsQCtEKQ0UM6TBXhw6rPRxPYC34pX600\"\n",
    "doc = requests.get(URL)\n",
    "\n",
    "doc= BeautifulSoup(doc.content, \"html.parser\")\n",
    "#print(doc.text)\n",
    "#print(doc.prettify())\n",
    "\n",
    "quantity = doc.find_all('span', class_ = \"pageassetinfo_value__yRWjv\")\n",
    "print(quantity)\n"
   ]
  },
  {
   "cell_type": "code",
   "execution_count": 2,
   "metadata": {},
   "outputs": [
    {
     "name": "stdout",
     "output_type": "stream",
     "text": [
      "PYTHON JOBS\n",
      "==============================\n",
      "\n",
      "Senior Python Developer\n",
      "Payne, Roberts and Davis\n",
      "Stewartbury, AA\n",
      "Apply here: https://realpython.github.io/fake-jobs/jobs/senior-python-developer-0.html\n",
      "\n",
      "\n",
      "Software Engineer (Python)\n",
      "Garcia PLC\n",
      "Ericberg, AE\n",
      "Apply here: https://realpython.github.io/fake-jobs/jobs/software-engineer-python-10.html\n",
      "\n",
      "\n",
      "Python Programmer (Entry-Level)\n",
      "Moss, Duncan and Allen\n",
      "Port Sara, AE\n",
      "Apply here: https://realpython.github.io/fake-jobs/jobs/python-programmer-entry-level-20.html\n",
      "\n",
      "\n",
      "Python Programmer (Entry-Level)\n",
      "Cooper and Sons\n",
      "West Victor, AE\n",
      "Apply here: https://realpython.github.io/fake-jobs/jobs/python-programmer-entry-level-30.html\n",
      "\n",
      "\n",
      "Software Developer (Python)\n",
      "Adams-Brewer\n",
      "Brockburgh, AE\n",
      "Apply here: https://realpython.github.io/fake-jobs/jobs/software-developer-python-40.html\n",
      "\n",
      "\n",
      "Python Developer\n",
      "Rivera and Sons\n",
      "East Michaelfort, AA\n",
      "Apply here: https://realpython.github.io/fake-jobs/jobs/python-developer-50.html\n",
      "\n",
      "\n",
      "Back-End Web Developer (Python, Django)\n",
      "Stewart-Alexander\n",
      "South Kimberly, AA\n",
      "Apply here: https://realpython.github.io/fake-jobs/jobs/back-end-web-developer-python-django-60.html\n",
      "\n",
      "\n",
      "Back-End Web Developer (Python, Django)\n",
      "Jackson, Ali and Mckee\n",
      "New Elizabethside, AA\n",
      "Apply here: https://realpython.github.io/fake-jobs/jobs/back-end-web-developer-python-django-70.html\n",
      "\n",
      "\n",
      "Python Programmer (Entry-Level)\n",
      "Mathews Inc\n",
      "Robertborough, AP\n",
      "Apply here: https://realpython.github.io/fake-jobs/jobs/python-programmer-entry-level-80.html\n",
      "\n",
      "\n",
      "Software Developer (Python)\n",
      "Moreno-Rodriguez\n",
      "Martinezburgh, AE\n",
      "Apply here: https://realpython.github.io/fake-jobs/jobs/software-developer-python-90.html\n",
      "\n",
      "\n"
     ]
    }
   ],
   "source": [
    "import requests\n",
    "from bs4 import BeautifulSoup\n",
    "\n",
    "\n",
    "URL = \"https://realpython.github.io/fake-jobs/\"\n",
    "page = requests.get(URL)\n",
    "\n",
    "soup = BeautifulSoup(page.content, \"html.parser\")\n",
    "results = soup.find(id=\"ResultsContainer\")\n",
    "\n",
    "# Look for Python jobs\n",
    "print(\"PYTHON JOBS\\n==============================\\n\")\n",
    "python_jobs = results.find_all(\n",
    "    \"h2\", string=lambda text: \"python\" in text.lower()\n",
    ")\n",
    "python_job_elements = [\n",
    "    h2_element.parent.parent.parent for h2_element in python_jobs\n",
    "]\n",
    "\n",
    "for job_element in python_job_elements:\n",
    "    title_element = job_element.find(\"h2\", class_=\"title\")\n",
    "    company_element = job_element.find(\"h3\", class_=\"company\")\n",
    "    location_element = job_element.find(\"p\", class_=\"location\")\n",
    "    print(title_element.text.strip())\n",
    "    print(company_element.text.strip())\n",
    "    print(location_element.text.strip())\n",
    "    link_url = job_element.find_all(\"a\")[1][\"href\"]\n",
    "    print(f\"Apply here: {link_url}\\n\")\n",
    "    print()\n"
   ]
  },
  {
   "cell_type": "code",
   "execution_count": 3,
   "metadata": {},
   "outputs": [],
   "source": [
    "import urllib.request\n",
    "from bs4 import BeautifulSoup as bs\n",
    "import re\n",
    "import pandas as pd\n"
   ]
  },
  {
   "cell_type": "code",
   "execution_count": 15,
   "metadata": {},
   "outputs": [
    {
     "name": "stdout",
     "output_type": "stream",
     "text": [
      "[]\n"
     ]
    }
   ],
   "source": [
    "page = urllib.request.urlopen(\"https://en.wikipedia.org/wiki/Python_(programming_language)\")\n",
    "soup = bs(page)\n",
    "#print(soup.prettify())\n",
    "#div = soup.findall('a', 'href=\"/wiki/Structured_programming\"')\n",
    "#print(div)\n",
    "match = soup.find_all('div', class_=\"href\" )\n",
    "print(match)"
   ]
  },
  {
   "cell_type": "code",
   "execution_count": null,
   "metadata": {},
   "outputs": [],
   "source": []
  },
  {
   "cell_type": "code",
   "execution_count": 12,
   "metadata": {},
   "outputs": [
    {
     "name": "stdout",
     "output_type": "stream",
     "text": [
      "[]\n"
     ]
    }
   ],
   "source": [
    "names =soup.body.findAll('li')\n",
    "\n",
    "#function_name = re.findall('div', str(names))\n",
    "#print(function_name)\n",
    "match = soup.find_all('div', class_=\"infobox-label\" )\n",
    "print(match)"
   ]
  },
  {
   "cell_type": "code",
   "execution_count": 11,
   "metadata": {},
   "outputs": [
    {
     "name": "stdout",
     "output_type": "stream",
     "text": [
      "[]\n"
     ]
    }
   ],
   "source": [
    "print(match)"
   ]
  },
  {
   "cell_type": "code",
   "execution_count": null,
   "metadata": {},
   "outputs": [],
   "source": []
  }
 ],
 "metadata": {
  "kernelspec": {
   "display_name": "Python 3",
   "language": "python",
   "name": "python3"
  },
  "language_info": {
   "codemirror_mode": {
    "name": "ipython",
    "version": 3
   },
   "file_extension": ".py",
   "mimetype": "text/x-python",
   "name": "python",
   "nbconvert_exporter": "python",
   "pygments_lexer": "ipython3",
   "version": "3.8.5"
  }
 },
 "nbformat": 4,
 "nbformat_minor": 4
}
